{
 "cells": [
  {
   "cell_type": "code",
   "execution_count": 1,
   "metadata": {},
   "outputs": [],
   "source": [
    "from argparse import Namespace\n",
    "\n",
    "args = Namespace()\n",
    "\n",
    "# thomas edison\n",
    "args.colorized = '/projects/grail/portrait-rephotography/third-party/colorization-pytorch/results/siggraph_class_512-G2/historical_samples/val_latest/images/00000018_1p000_fake_reg.png'\n",
    "# args.colorized = '/projects/grail/portrait-rephotography/third-party/colorization-pytorch/results/siggraph_reg2_256/historical_samples/val_latest/images/00000018_1p000_fake_reg.png'\n",
    "args.gray = '/projects/grail/portrait-rephotography/dataset/aligned2/historical_samples/Thomas_Edison2_01.png'\n",
    "args.gray = 'Thomas_Edison2_01_rlt.png'\n",
    "args.out_fn = 'thomas_edison_512to4096.png'\n",
    "\n",
    "# lincoln\n",
    "# args.colorized = '/projects/grail/portrait-rephotography/third-party/colorization-pytorch/results/siggraph_class_512-G2/historical_samples/val_latest/images/00000014_1p000_fake_reg.png'\n",
    "# # args.colorized = '/projects/grail/portrait-rephotography/third-party/colorization-pytorch/results/siggraph_reg2_256/historical_samples/val_latest/images/00000014_1p000_fake_reg.png'\n",
    "# args.gray = '/projects/grail/portrait-rephotography/dataset/aligned2/historical_samples/AbeLincoln_01.png'\n",
    "# args.out_fn = 'AbeLincoln_512to1024.png'"
   ]
  },
  {
   "cell_type": "code",
   "execution_count": 3,
   "metadata": {},
   "outputs": [
    {
     "data": {
      "text/plain": [
       "True"
      ]
     },
     "execution_count": 3,
     "metadata": {},
     "output_type": "execute_result"
    }
   ],
   "source": [
    "import cv2\n",
    "import numpy as np\n",
    "import os\n",
    "from os.path import join as pjoin\n",
    "\n",
    "\n",
    "def colorize_highres(gray, colorized):\n",
    "    colorized = cv2.resize(colorized, gray.shape[:2][::-1], interpolation=cv2.INTER_CUBIC)\n",
    "    ab = cv2.cvtColor(colorized, cv2.COLOR_BGR2LAB)[..., 1:]\n",
    "    lab = np.concatenate((gray[..., None], ab), axis=-1)\n",
    "    colorized_highres = cv2.cvtColor(lab, cv2.COLOR_LAB2BGR)\n",
    "    return colorized_highres\n",
    "\n",
    "\n",
    "colorized = cv2.imread(args.colorized)\n",
    "gray = cv2.imread(args.gray, 0)\n",
    "\n",
    "colorized_highres = colorize_highres(gray, colorized)\n",
    "\n",
    "cv2.imwrite(args.out_fn, colorized_highres)"
   ]
  },
  {
   "cell_type": "code",
   "execution_count": 6,
   "metadata": {},
   "outputs": [],
   "source": [
    "from argparse import Namespace\n",
    "\n",
    "args = Namespace()\n",
    "\n",
    "# args.colorized_fmt = '/projects/grail/portrait-rephotography/third-party/colorization-pytorch/results/siggraph_class_512-G2/historical_samples/val_latest/images/00000018_1p000_fake_reg.png'\n",
    "args.colorized_fmt = '/projects/grail/portrait-rephotography/third-party/colorization-pytorch/results/siggraph_reg2_256/historical_samples/val_latest/images/{:08d}_1p000_fake_reg.png'\n",
    "args.gray_dir = '/projects/grail/portrait-rephotography/dataset/aligned2/historical_samples/'\n",
    "args.out_fmt = '{pre}_256to1024.png'\n",
    "args.start = 14"
   ]
  },
  {
   "cell_type": "code",
   "execution_count": 7,
   "metadata": {},
   "outputs": [],
   "source": [
    "import cv2\n",
    "import numpy as np\n",
    "import os\n",
    "from os.path import join as pjoin\n",
    "\n",
    "\n",
    "names = sorted(os.listdir(args.gray_dir))\n",
    "\n",
    "for i, name in zip(range(args.start, args.start + len(names)),\n",
    "                  names):\n",
    "    colorized = cv2.imread(args.colorized_fmt.format(i))\n",
    "    gray = cv2.imread(pjoin(args.gray_dir, name), 0)\n",
    "    \n",
    "    colorized_highres = colorize_highres(gray, colorized)\n",
    "\n",
    "    pre = os.path.splitext(name)[0]\n",
    "    cv2.imwrite(args.out_fmt.format(pre=pre), colorized_highres)"
   ]
  },
  {
   "cell_type": "code",
   "execution_count": null,
   "metadata": {},
   "outputs": [],
   "source": []
  }
 ],
 "metadata": {
  "kernelspec": {
   "display_name": "Python 3",
   "language": "python",
   "name": "python3"
  },
  "language_info": {
   "codemirror_mode": {
    "name": "ipython",
    "version": 3
   },
   "file_extension": ".py",
   "mimetype": "text/x-python",
   "name": "python",
   "nbconvert_exporter": "python",
   "pygments_lexer": "ipython3",
   "version": "3.7.6"
  }
 },
 "nbformat": 4,
 "nbformat_minor": 4
}
