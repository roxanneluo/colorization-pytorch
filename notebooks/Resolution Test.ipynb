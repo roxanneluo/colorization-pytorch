{
 "cells": [
  {
   "cell_type": "code",
   "execution_count": 36,
   "metadata": {},
   "outputs": [],
   "source": [
    "import argparse\n",
    "from argparse import Namespace\n",
    "\n",
    "args = Namespace()\n",
    "args.data_dir = '/projects/grail/portrait-rephotography/dataset/aligned2/historical_samples'\n",
    "args.out_dir_fmt = '../results/resolution-test/historical_samples{}'\n",
    "args.sizes = [64, 128, 256, 512]\n",
    "args.median_filter = 0"
   ]
  },
  {
   "cell_type": "code",
   "execution_count": 37,
   "metadata": {},
   "outputs": [],
   "source": [
    "import os\n",
    "from os.path import join as pjoin\n",
    "from shutil import copyfile\n",
    "\n",
    "import cv2\n",
    "\n",
    "\n",
    "opt_str = \"\"\n",
    "if args.median_filter > 0:\n",
    "    opt_str = f\"-med{args.median_filter}\"\n",
    "args.out_dir_fmt += opt_str\n",
    "\n",
    "for size in args.sizes + ['']:\n",
    "    os.makedirs(args.out_dir_fmt.format(size), exist_ok=True)\n",
    "\n",
    "    \n",
    "names = os.listdir(args.data_dir)\n",
    "for name in names:\n",
    "    in_fn = pjoin(args.data_dir, name)\n",
    "    im = cv2.imread(in_fn)\n",
    "    large_dir = args.out_dir_fmt.format('')\n",
    "    copyfile(in_fn, pjoin(large_dir, name))\n",
    "    \n",
    "    if args.median_filter > 0:\n",
    "        im = cv2.medianBlur(im, args.median_filter)\n",
    "    \n",
    "    H, W = im.shape[:2]\n",
    "    pre, ext = os.path.splitext(name)\n",
    "    for size in args.sizes:\n",
    "        small = cv2.resize(im, (size, size), interpolation=cv2.INTER_AREA)\n",
    "        small_fn = pjoin(args.out_dir_fmt.format(size), name)\n",
    "        cv2.imwrite(small_fn, small)\n",
    "        \n",
    "        upsample = cv2.resize(small, (W, H), interpolation=cv2.INTER_CUBIC)\n",
    "        up_fn = pjoin(large_dir, f'{pre}-{size}{opt_str}{ext}')\n",
    "        cv2.imwrite(up_fn, upsample)\n",
    "        \n",
    "        diff = (upsample - im) + 127\n",
    "        diff_fn = pjoin(large_dir, f'{pre}-{size}{opt_str}-diff{ext}')\n",
    "        cv2.imwrite(diff_fn, diff)"
   ]
  },
  {
   "cell_type": "code",
   "execution_count": null,
   "metadata": {},
   "outputs": [],
   "source": []
  }
 ],
 "metadata": {
  "kernelspec": {
   "display_name": "Python 3",
   "language": "python",
   "name": "python3"
  },
  "language_info": {
   "codemirror_mode": {
    "name": "ipython",
    "version": 3
   },
   "file_extension": ".py",
   "mimetype": "text/x-python",
   "name": "python",
   "nbconvert_exporter": "python",
   "pygments_lexer": "ipython3",
   "version": "3.7.6"
  }
 },
 "nbformat": 4,
 "nbformat_minor": 4
}
